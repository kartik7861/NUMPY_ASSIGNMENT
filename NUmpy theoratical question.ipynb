{
 "cells": [
  {
   "cell_type": "code",
   "execution_count": 1,
   "metadata": {},
   "outputs": [],
   "source": [
    "import numpy as np"
   ]
  },
  {
   "cell_type": "code",
   "execution_count": 3,
   "metadata": {},
   "outputs": [],
   "source": [
    "#1. Explain the purpose and advantages of NumPy in scientific computing and data analysis. How does it enhance Python's capabilities for numerical operations? \n",
    "\n",
    "#ans.1 NumPy  is an open source Python library that has a wide range of inbuilt functions. \n",
    "\n",
    "#NumPy provides support for large, multi-dimensional arrays and matrices, along with a collection of mathematical functions to operate on these arrays efficiently. \n",
    "\n",
    "#NumPy operations are implemented in C, making them significantly faster than equivalent operations in pure Python, especially for large datasets. \n",
    "\n",
    "#NumPy offers a wide range of mathematical functions that can be applied directly to arrays, simplifying complex operations.\n",
    "\n",
    "#NumPy enables vectorized operations, which eliminate the need for explicit loops and thus improve both readability and performance.\n",
    "\n",
    "#NumPy offers powerful indexing options that allow for more flexible and efficient data manipulation compared to native Python lists. "
   ]
  },
  {
   "cell_type": "code",
   "execution_count": 5,
   "metadata": {},
   "outputs": [
    {
     "name": "stdout",
     "output_type": "stream",
     "text": [
      "3.0\n",
      "3.4285714285714284\n"
     ]
    }
   ],
   "source": [
    "#2. Compare and contrast np.mean() and np.average() functions in NumPy. When would you use one over the other?\n",
    "\n",
    "#np.mean() \n",
    "#Computes the arithmetic mean of the elements along a specified axis\n",
    "#use case\n",
    "#When you want a simple arithmetic mean of the data without any weighting.\n",
    "#When performance is a priority and you don’t need the added complexity of weights.\n",
    "\n",
    "#np.average()\n",
    "#Computes the weighted average of elements. If no weights are provided, it behaves similarly to np.mean().\n",
    "##use case\n",
    "#When you need to compute a weighted average, where some elements contribute more to the average than others.\n",
    "#When you want the option to return additional information, like the sum of weights. \n",
    "\n",
    "\n",
    "data = np.array([1, 2, 3, 4, 5])\n",
    "\n",
    "mean_value = np.mean(data)  # Simple mean\n",
    "average_value = np.average(data, weights=[1, 1, 1, 2, 2])  # Weighted average\n",
    "\n",
    "print( mean_value)  # Output: 3.0\n",
    "print( average_value)  # Output: 3.428\n"
   ]
  },
  {
   "cell_type": "code",
   "execution_count": null,
   "metadata": {},
   "outputs": [],
   "source": [
    "#3. Describe the methods for reversing a NumPy array along different axes. Provide examples for 1D and 2D arrays.\n",
    "\n",
    "#Reversing a 1D Array\n",
    "\n",
    "arr_1d = np.array([1, 2, 3, 4, 5])\n",
    "\n",
    "reversed_arr_1d = arr_1d[::-1]\n",
    "\n",
    "print( arr_1d)\n",
    "print( reversed_arr_1d) \n",
    "\n",
    "#Reversing a 2D Array\n",
    "arr_2d = np.array([[1, 2, 3],\n",
    "                   [4, 5, 6],\n",
    "                   [7, 8, 9]])\n",
    "\n",
    "# Reverse along the first axis (rows)\n",
    "reversed_rows = arr_2d[::-1, :]\n",
    "\n",
    "# Reverse along the second axis (columns)\n",
    "reversed_columns = arr_2d[:, ::-1]\n",
    "\n",
    "print(arr_2d)\n",
    "print(reversed_rows)\n",
    "print(reversed_columns)\n",
    "\n"
   ]
  },
  {
   "cell_type": "code",
   "execution_count": 6,
   "metadata": {},
   "outputs": [
    {
     "name": "stdout",
     "output_type": "stream",
     "text": [
      "int64\n"
     ]
    }
   ],
   "source": [
    "#4. How can you determine the data type of elements in a NumPy array? Discuss the importance of data types in memory management and performance.\n",
    "#data type of elements in an array can be determined using the .dtype attribute. \n",
    "\n",
    "arr = np.array([1, 2, 3, 4])\n",
    "\n",
    "data_type = arr.dtype\n",
    "\n",
    "print(data_type) \n",
    "\n",
    "#Understanding and selecting appropriate data types in NumPy is vital for optimizing memory usage and computational performance. By leveraging the .dtype attribute, we can easily check the data type of our arrays and make informed decisions about how to manage and manipulate our data effectively.\n"
   ]
  },
  {
   "cell_type": "code",
   "execution_count": 7,
   "metadata": {},
   "outputs": [
    {
     "ename": "SyntaxError",
     "evalue": "invalid syntax (3819507807.py, line 2)",
     "output_type": "error",
     "traceback": [
      "\u001b[1;36m  Cell \u001b[1;32mIn[7], line 2\u001b[1;36m\u001b[0m\n\u001b[1;33m    ndarray, or n-dimensional array, is the central data structure in NumPy. It is a powerful, flexible, and efficient way to store and manipulate large datasets in multiple dimensions.\u001b[0m\n\u001b[1;37m             ^\u001b[0m\n\u001b[1;31mSyntaxError\u001b[0m\u001b[1;31m:\u001b[0m invalid syntax\n"
     ]
    }
   ],
   "source": [
    "#5. Define ndarrays in NumPy and explain their key features. How do they differ from standard Python lists?\n",
    "#ndarray, or n-dimensional array,is a powerful, flexible, and efficient way to store and manipulate large datasets in multiple dimensions.\n",
    "#ndarrays are stored in contiguous blocks of memory, which enhances performance, especially for mathematical operations and data processing.\n",
    "#ndarrays can have any number of dimensions (1D, 2D, 3D, etc.), making them suitable for representing vectors, matrices, and higher-dimensional datasets.\n",
    "\n",
    "\n",
    " \n",
    "#ndarrays: Homogeneous; all elements must be of the same type.\n",
    " #Python Lists: Heterogeneous; can contain elements of different types (e.g., integers, strings, objects).\n",
    "\n",
    "#ndarrays: Generally faster for numerical operations due to optimized C-based implementations and contiguous memory storage.\n",
    "#Python Lists: Slower for numerical computations, as operations often require explicit looping.\n",
    "\n",
    "\n",
    "#ndarrays: Advanced slicing and indexing capabilities, including multi-dimensional slicing and boolean indexing.\n",
    "#Python Lists: Supports basic slicing but lacks the same level of flexibility and functionality.\n"
   ]
  },
  {
   "cell_type": "code",
   "execution_count": null,
   "metadata": {},
   "outputs": [],
   "source": [
    "#6. Analyze the performance benefits of NumPy arrays over Python lists for large-scale numerical operations\n",
    "\n",
    "#1. Contiguous Memory Allocation\n",
    "#NumPy Arrays: NumPy arrays are stored in contiguous blocks of memory, which improves cache locality. This means that when an operation accesses one element of the array, it is likely to access nearby elements as well, reducing the time taken to fetch data from memory.\n",
    "#Python Lists: Python lists store references to objects, which can lead to non-contiguous memory allocation. This results in more cache misses and slower access times during operations.\n",
    "#2. Homogeneous Data Types\n",
    "#NumPy Arrays: All elements in a NumPy array are of the same type, which allows for optimized storage and faster computation. The fixed data type enables NumPy to use more efficient operations that take advantage of lower-level optimizations.\n",
    "#Python Lists: Lists can store mixed data types, leading to additional overhead for type checking and potentially less efficient memory usage.\n",
    "#3. Vectorized Operations\n",
    "#NumPy Arrays: NumPy supports vectorized operations, which allow for operations on entire arrays without the need for explicit loops. This is implemented in C and optimized for performance, making operations significantly faster.\n",
    "#Python Lists: Performing element-wise operations on lists typically requires using loops or list comprehensions, which are slower because they are executed in Python’s interpreted environment.\n",
    "#4. Broadcasting\n",
    "#NumPy Arrays: Broadcasting enables NumPy to perform operations on arrays of different shapes without the need for explicit replication of data. This feature allows for more concise and efficient code, as well as faster computations.\n",
    "#Python Lists: Lists do not support broadcasting, requiring manual handling of shapes, which can lead to more complex and slower code.\n",
    "#5. Built-in Functions\n",
    "#NumPy Arrays: NumPy provides a rich set of optimized mathematical functions that can operate on arrays. These functions are implemented in C and often leverage multi-threading, making them faster than equivalent operations performed in Python.\n",
    "#Python Lists: While lists can use built-in functions, these are typically not optimized for performance and lack the extensive numerical capabilities of NumPy.\n",
    "#6. Reduced Overhead\n",
    "#NumPy Arrays: The overhead associated with NumPy arrays is minimal compared to Python lists. Operations are performed in bulk rather than element by element, which reduces function call overhead and improves execution speed.\n",
    "#Python Lists: Each operation on a list may incur additional overhead due to the need for dynamic memory management and type handling."
   ]
  },
  {
   "cell_type": "code",
   "execution_count": 8,
   "metadata": {},
   "outputs": [
    {
     "name": "stdout",
     "output_type": "stream",
     "text": [
      "[[11 16 31]\n",
      " [44 34 26]]\n",
      "[[17 81 42]\n",
      " [10 22 12]]\n",
      "[[11 16 31]\n",
      " [44 34 26]\n",
      " [17 81 42]\n",
      " [10 22 12]]\n",
      "[[11 16 31 17 81 42]\n",
      " [44 34 26 10 22 12]]\n"
     ]
    }
   ],
   "source": [
    "#7. Compare vstack() and hstack() functions in NumPy. Provide examples demonstrating their usage and output.\n",
    "\n",
    "#The vstack() and hstack() functions in NumPy are used to stack arrays vertically and horizontally, respectively \n",
    "\n",
    "\n",
    "array1 = np.array([[11, 16, 31],\n",
    "                   [44,34 , 26]])\n",
    "\n",
    "array2 = np.array([[17, 81, 42],\n",
    "                   [10, 22, 12]])\n",
    "\n",
    "result_vstack = np.vstack((array1, array2))\n",
    "\n",
    "print(array1)\n",
    "print(array2)\n",
    "print( result_vstack)     #vstack() combines arrays by stacking them vertically, resulting in more rows.\n",
    "\n",
    "\n",
    "result_hstack = np.hstack((array1, array2))\n",
    "\n",
    "print(result_hstack)      #hstack() combines arrays by stacking them horizontally, resulting in more columns.\n",
    "\n"
   ]
  },
  {
   "cell_type": "code",
   "execution_count": 9,
   "metadata": {},
   "outputs": [
    {
     "name": "stdout",
     "output_type": "stream",
     "text": [
      "[[1 2 3]\n",
      " [4 5 6]\n",
      " [7 8 9]]\n",
      "[[3 2 1]\n",
      " [6 5 4]\n",
      " [9 8 7]]\n",
      "[[7 8 9]\n",
      " [4 5 6]\n",
      " [1 2 3]]\n"
     ]
    }
   ],
   "source": [
    "#8. Explain the differences between fliplr() and flipud() methods in NumPy, including their effects on various array dimensions.\n",
    "\n",
    "#fliplr() flips arrays left to right (horizontally).\n",
    "#flipud() flips arrays up to down (vertically). \n",
    "\n",
    "#Both functions can be used on 2D arrays and can also be applied to higher-dimensional arrays where they affect the corresponding axes. \n",
    "# For 1D arrays, they behave similarly as there's no distinction between rows and columns.\n",
    "\n",
    "\n",
    "array_2d = np.array([[1, 2, 3],\n",
    "                     [4, 5, 6],\n",
    "                     [7, 8, 9]])\n",
    "\n",
    "# Flip the array left to right\n",
    "flipped_lr = np.fliplr(array_2d)\n",
    "\n",
    "print(array_2d)\n",
    "print(flipped_lr)\n",
    "\n",
    "# Flip the array up to down\n",
    "flipped_ud = np.flipud(array_2d)\n",
    "\n",
    "print( flipped_ud) \n"
   ]
  },
  {
   "cell_type": "code",
   "execution_count": 10,
   "metadata": {},
   "outputs": [
    {
     "name": "stdout",
     "output_type": "stream",
     "text": [
      "[array([1, 2, 3]), array([4, 5, 6]), array([7, 8, 9])]\n",
      "[[1 2 3]\n",
      " [4 5 6]]\n",
      "[[7 8 9]]\n",
      "[array([1, 2, 3]), array([4, 5]), array([6, 7]), array([8, 9])]\n"
     ]
    }
   ],
   "source": [
    "#9. Discuss the functionality of the array_split() method in NumPy. How does it handle uneven splits? \n",
    "\n",
    "#The array_split() method in NumPy is used to split an array into multiple sub-arrays along a specified axis. \n",
    "\n",
    "array_1d = np.array([1, 2, 3, 4, 5, 6, 7, 8, 9])\n",
    "\n",
    "# Split the array into 3 parts\n",
    "split_3 = np.array_split(array_1d, 3)\n",
    "print(split_3)\n",
    "\n",
    "array_2d = np.array([[1, 2, 3],\n",
    "                     [4, 5, 6],\n",
    "                     [7, 8, 9]])\n",
    "\n",
    "# Split the 2D array into 2 parts\n",
    "split_2d = np.array_split(array_2d, 2)\n",
    "for part in split_2d:\n",
    "    print(part)  \n",
    "\n",
    "\n",
    "    # Split the 1D array into 4 parts\n",
    "uneven_split = np.array_split(array_1d, 4)\n",
    "print(uneven_split)    #the 1D array [1, 2, 3, 4, 5, 6, 7, 8, 9] is split into 4 parts>>>>> the first bpart contain 3 element and 2 and 3 rd and 4 th part contain 2 element each \n",
    "\n"
   ]
  },
  {
   "cell_type": "code",
   "execution_count": 11,
   "metadata": {},
   "outputs": [
    {
     "name": "stdout",
     "output_type": "stream",
     "text": [
      "[[14 28 35]\n",
      " [11 24 42]]\n"
     ]
    }
   ],
   "source": [
    "#10. Explain the concepts of vectorization and broadcasting in NumPy. How do they contribute to efficient array operations?\n",
    "\n",
    "\n",
    "\n",
    "#Vectorization refers to the ability to perform operations on entire arrays or large chunks of data simultaneously, rather than element by element through explicit loops.\n",
    "# This is achieved by using NumPy's built-in functions\n",
    "\n",
    "arr = np.arange(1, 100)\n",
    "\n",
    "# Vectorized operation: Squaring each element\n",
    "squared = arr ** 2  \n",
    "\n",
    "\n",
    "#Broadcasting is a technique that allows NumPy to perform arithmetic operations on arrays of different shapes and sizes. \n",
    "#Instead of requiring arrays to be the same shape, NumPy automatically expands the smaller array to match the shape of the larger one during the operation. \n",
    "\n",
    "\n",
    "A = np.array([[4, 8, 5],\n",
    "              [1, 4, 12]])\n",
    "\n",
    "B = np.array([10, 20, 30])\n",
    "\n",
    "# Broadcasting: Add B to each row of A\n",
    "result = A + B\n",
    "\n",
    "print( result)\n",
    "\n"
   ]
  },
  {
   "cell_type": "code",
   "execution_count": null,
   "metadata": {},
   "outputs": [],
   "source": []
  }
 ],
 "metadata": {
  "kernelspec": {
   "display_name": "Python 3.13.0 64-bit",
   "language": "python",
   "name": "python3"
  },
  "language_info": {
   "codemirror_mode": {
    "name": "ipython",
    "version": 3
   },
   "file_extension": ".py",
   "mimetype": "text/x-python",
   "name": "python",
   "nbconvert_exporter": "python",
   "pygments_lexer": "ipython3",
   "version": "3.13.0"
  },
  "orig_nbformat": 4,
  "vscode": {
   "interpreter": {
    "hash": "cd13748ff8556542caec8bd63c9ea3852e86135ea52aa73235e3d8fcb3d45332"
   }
  }
 },
 "nbformat": 4,
 "nbformat_minor": 2
}
