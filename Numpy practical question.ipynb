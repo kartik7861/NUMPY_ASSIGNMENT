{
 "cells": [
  {
   "cell_type": "code",
   "execution_count": 3,
   "metadata": {},
   "outputs": [
    {
     "name": "stdout",
     "output_type": "stream",
     "text": [
      "Collecting numpy\n",
      "  Downloading numpy-2.1.2-cp313-cp313-win_amd64.whl.metadata (59 kB)\n",
      "Downloading numpy-2.1.2-cp313-cp313-win_amd64.whl (12.6 MB)\n",
      "   ---------------------------------------- 0.0/12.6 MB ? eta -:--:--\n",
      "   ------------ --------------------------- 3.9/12.6 MB 18.9 MB/s eta 0:00:01\n",
      "   -------------------- ------------------- 6.6/12.6 MB 15.6 MB/s eta 0:00:01\n",
      "   ----------------------------- ---------- 9.2/12.6 MB 14.6 MB/s eta 0:00:01\n",
      "   ---------------------------------- ----- 10.7/12.6 MB 13.9 MB/s eta 0:00:01\n",
      "   ---------------------------------------  12.3/12.6 MB 13.3 MB/s eta 0:00:01\n",
      "   ---------------------------------------  12.3/12.6 MB 13.3 MB/s eta 0:00:01\n",
      "   ---------------------------------------  12.3/12.6 MB 13.3 MB/s eta 0:00:01\n",
      "   ---------------------------------------- 12.6/12.6 MB 7.7 MB/s eta 0:00:00\n",
      "Installing collected packages: numpy\n",
      "Successfully installed numpy-2.1.2\n",
      "Note: you may need to restart the kernel to use updated packages.\n"
     ]
    },
    {
     "name": "stderr",
     "output_type": "stream",
     "text": [
      "  WARNING: The scripts f2py.exe and numpy-config.exe are installed in 'c:\\Users\\kartik\\AppData\\Local\\Programs\\Python\\Python313\\Scripts' which is not on PATH.\n",
      "  Consider adding this directory to PATH or, if you prefer to suppress this warning, use --no-warn-script-location.\n"
     ]
    }
   ],
   "source": [
    "pip install numpy"
   ]
  },
  {
   "cell_type": "code",
   "execution_count": 4,
   "metadata": {},
   "outputs": [],
   "source": [
    "import numpy as np"
   ]
  },
  {
   "cell_type": "code",
   "execution_count": 8,
   "metadata": {},
   "outputs": [
    {
     "name": "stdout",
     "output_type": "stream",
     "text": [
      "[[77 40 99]\n",
      " [ 1 65 19]\n",
      " [28 13 23]]\n",
      "[[77  1 28]\n",
      " [40 65 13]\n",
      " [99 19 23]]\n"
     ]
    }
   ],
   "source": [
    "#1. Create a 3x3 NumPy array with random integers between 1 and 100. Then, interchange its rows and columns\n",
    "\n",
    "arr = np.random.randint(1, 100, size=(3,3))\n",
    "print (arr)  \n",
    "\n",
    "arr2 = arr.T \n",
    "print (arr2)"
   ]
  },
  {
   "cell_type": "code",
   "execution_count": 18,
   "metadata": {},
   "outputs": [
    {
     "name": "stdout",
     "output_type": "stream",
     "text": [
      "[ 1 10 15  6 45 43 18  9 13 20]\n",
      "[[ 1 10 15  6 45]\n",
      " [43 18  9 13 20]]\n",
      "[[ 1 10]\n",
      " [15  6]\n",
      " [45 43]\n",
      " [18  9]\n",
      " [13 20]]\n"
     ]
    }
   ],
   "source": [
    "#2.Generate a 1D NumPy array with 10 elements. Reshape it into a 2x5 array, then into a 5x2 array. \n",
    "b=[1, 10 ,15 ,6 ,45 ,43,18, 9 ,13, 20]\n",
    "#array with 10 elements \n",
    "a= np.array(b)\n",
    "print (a)\n",
    "#reshaping array into 2x5\n",
    "a1=a.reshape(2,5)\n",
    "print(a1)\n",
    "#reshaping array into 5x2\n",
    "a2=a1.reshape(5,2)\n",
    "print(a2)"
   ]
  },
  {
   "cell_type": "code",
   "execution_count": 7,
   "metadata": {},
   "outputs": [
    {
     "name": "stdout",
     "output_type": "stream",
     "text": [
      "[[0.71784135 0.06309173 0.37518199 0.21659226]\n",
      " [0.10442114 0.43164642 0.44201518 0.24944832]\n",
      " [0.28117255 0.87152404 0.36314809 0.4122412 ]\n",
      " [0.01649612 0.36705478 0.95080255 0.88998766]]\n",
      "[[0.         0.         0.         0.         0.         0.        ]\n",
      " [0.         0.71784135 0.06309173 0.37518199 0.21659226 0.        ]\n",
      " [0.         0.10442114 0.43164642 0.44201518 0.24944832 0.        ]\n",
      " [0.         0.28117255 0.87152404 0.36314809 0.4122412  0.        ]\n",
      " [0.         0.01649612 0.36705478 0.95080255 0.88998766 0.        ]\n",
      " [0.         0.         0.         0.         0.         0.        ]]\n"
     ]
    }
   ],
   "source": [
    "#3. Create a 4x4 NumPy array with random float values. Add a border of zeros around it, resulting in a 6x6 array. \n",
    "\n",
    "d= np.random.rand(4,4)  \n",
    "print(d)\n",
    "\n",
    "arrborder = np.zeros((6, 6))\n",
    "\n",
    "arrborder[1:5, 1:5] = d \n",
    "\n",
    "print(arrborder)\n"
   ]
  },
  {
   "cell_type": "code",
   "execution_count": 6,
   "metadata": {},
   "outputs": [
    {
     "name": "stdout",
     "output_type": "stream",
     "text": [
      "[10 15 20 25 30 35 40 45 50 55]\n"
     ]
    }
   ],
   "source": [
    "#4. Using NumPy, create an array of integers from 10 to 60 with a step of 5.\n",
    "\n",
    "y=np.arange(10,60,5)\n",
    "print(y)"
   ]
  },
  {
   "cell_type": "code",
   "execution_count": 37,
   "metadata": {},
   "outputs": [
    {
     "name": "stdout",
     "output_type": "stream",
     "text": [
      "['python' 'numpy' 'pandas']\n",
      "['PYTHON' 'NUMPY' 'PANDAS']\n",
      "['python' 'numpy' 'pandas']\n",
      "['Python' 'Numpy' 'Pandas']\n",
      "['Python' 'Numpy' 'Pandas']\n"
     ]
    }
   ],
   "source": [
    " #5.Create a NumPy array of strings ['python', 'numpy', 'pandas']. Apply different case transformations(uppercase, lowercase, title case, etc.) to each element. \n",
    "\n",
    "arr=np.array(['python', 'numpy', 'pandas']) \n",
    "print(arr)\n",
    "#uppercase\n",
    "uarr=np.char.upper(arr)\n",
    "print(uarr) \n",
    "#lowercase\n",
    "larr=np.char.lower(arr)\n",
    "print(larr)\n",
    "#title\n",
    "tarr=np.char.title(arr)\n",
    "print(tarr)\n",
    "#capitalize\n",
    "carr=np.char.capitalize(arr)\n",
    "print(carr)"
   ]
  },
  {
   "cell_type": "code",
   "execution_count": 44,
   "metadata": {},
   "outputs": [
    {
     "name": "stdout",
     "output_type": "stream",
     "text": [
      "['Bijay' 'ajay' 'python' 'sanjay']\n",
      "['B i j a y' 'a j a y' 'p y t h o n' 's a n j a y']\n"
     ]
    }
   ],
   "source": [
    " #6. Generate a NumPy array of words. Insert a space between each character of every word in the array.\n",
    "\n",
    "warr= np.array(['Bijay' ,'ajay' ,'python', 'sanjay'])\n",
    "print(warr) \n",
    "\n",
    "sarr= np.char.join(' ', warr)\n",
    "print(sarr)\n"
   ]
  },
  {
   "cell_type": "code",
   "execution_count": 45,
   "metadata": {},
   "outputs": [
    {
     "name": "stdout",
     "output_type": "stream",
     "text": [
      "[[ 33  36  42]\n",
      " [ 50  65 101]]\n",
      "[[ 7 20 30]\n",
      " [30 35 59]]\n",
      "[[ 260  224  216]\n",
      " [ 400  750 1680]]\n",
      "[[1.53846154 3.5        6.        ]\n",
      " [4.         3.33333333 3.80952381]]\n"
     ]
    }
   ],
   "source": [
    "#7. Create two 2D NumPy arrays and perform element-wise addition, subtraction, multiplication, and division\n",
    "\n",
    "array1 = np.array([[20, 28, 36], [40, 50, 80]])\n",
    "array2 = np.array([[13, 8, 6], [10, 15, 21]])\n",
    "\n",
    "add=array1+array2 \n",
    "print(add) \n",
    "\n",
    "sub=array1-array2 \n",
    "print(sub)\n",
    "\n",
    "mul=array1*array2 \n",
    "print(mul)\n",
    "\n",
    "divi=array1/array2 \n",
    "print(divi)"
   ]
  },
  {
   "cell_type": "code",
   "execution_count": 50,
   "metadata": {},
   "outputs": [
    {
     "name": "stdout",
     "output_type": "stream",
     "text": [
      "[[1. 0. 0. 0. 0.]\n",
      " [0. 1. 0. 0. 0.]\n",
      " [0. 0. 1. 0. 0.]\n",
      " [0. 0. 0. 1. 0.]\n",
      " [0. 0. 0. 0. 1.]]\n",
      "[1. 1. 1. 1. 1.]\n"
     ]
    }
   ],
   "source": [
    "#8. Use NumPy to create a 5x5 identity matrix, then extract its diagonal elements. n\n",
    "\n",
    "im=np.identity(5)       \n",
    "print(im)\n",
    "\n",
    "id=im.diagonal()       #here i used .diagnol to extract diagnol elements \n",
    "print(id)\n",
    "\n"
   ]
  },
  {
   "cell_type": "code",
   "execution_count": 58,
   "metadata": {},
   "outputs": [
    {
     "name": "stdout",
     "output_type": "stream",
     "text": [
      "[ 88 237 661 111 714 719 598 471 667 683 861 973 971  67 235  25 258 109\n",
      " 455 784 659 581 934 747   9 611 116 904 115 134 995  14 928 540 435  68\n",
      " 786 233 609  19 290 834 407 838 183 361  63 382 581 721 153 115  66 831\n",
      " 491 437 303 859 168 646 171 885 766 189 162 530 720 937 633 218 311 778\n",
      " 452 542 370 981 948 620 522 109 111 901 371 495 619  60 790 852 252 900\n",
      " 280 173 829 454  17 975 130 639 279 824]\n",
      "[np.int32(661), np.int32(719), np.int32(683), np.int32(971), np.int32(67), np.int32(109), np.int32(659), np.int32(233), np.int32(19), np.int32(491), np.int32(859), np.int32(937), np.int32(311), np.int32(109), np.int32(619), np.int32(173), np.int32(829), np.int32(17)]\n"
     ]
    }
   ],
   "source": [
    "#9.Generate a NumPy array of 100 random integers between 0 and 1000. Find and display all prime numbers in this array.\n",
    "\n",
    "iarr=np.random.randint(0,1000 , size=100)\n",
    "print(iarr) \n",
    "\n",
    "def is_prime(n):\n",
    "    if n <= 1:\n",
    "        return False\n",
    "    for i in range(2, int(n**0.5) + 1):\n",
    "        if (n % i) == 0:\n",
    "             return False\n",
    " \n",
    "    return True \n",
    "\n",
    "    \n",
    "prime_no= [num for num in iarr if is_prime(num)]\n",
    "\n",
    "print(prime_no)\n"
   ]
  },
  {
   "cell_type": "code",
   "execution_count": 62,
   "metadata": {},
   "outputs": [
    {
     "name": "stdout",
     "output_type": "stream",
     "text": [
      "[27 23 42 49 60 43 59 29 79 13 55 84 18 62  3 26 87 22 60 89 29 32 69 89\n",
      " 71 54 15 18]\n",
      "[43.28571429 48.57142857 45.14285714 49.71428571]\n"
     ]
    }
   ],
   "source": [
    "#10. Create a NumPy array representing daily temperatures for a month. Calculate and display the weekly averages.\n",
    "\n",
    "\n",
    "# Creating a NumPy array representing daily temperature\n",
    "dt= np.random.randint(0, 101, size=28)  # Temperatures between 0 and 100\n",
    "print(dt)\n",
    "\n",
    "\n",
    "weekly_averages = np.mean(dt.reshape(4, 7), axis=1)\n",
    "\n",
    "\n",
    "print(weekly_averages)\n"
   ]
  },
  {
   "cell_type": "code",
   "execution_count": null,
   "metadata": {},
   "outputs": [],
   "source": []
  }
 ],
 "metadata": {
  "kernelspec": {
   "display_name": "Python 3.13.0 64-bit",
   "language": "python",
   "name": "python3"
  },
  "language_info": {
   "codemirror_mode": {
    "name": "ipython",
    "version": 3
   },
   "file_extension": ".py",
   "mimetype": "text/x-python",
   "name": "python",
   "nbconvert_exporter": "python",
   "pygments_lexer": "ipython3",
   "version": "3.13.0"
  },
  "orig_nbformat": 4,
  "vscode": {
   "interpreter": {
    "hash": "cd13748ff8556542caec8bd63c9ea3852e86135ea52aa73235e3d8fcb3d45332"
   }
  }
 },
 "nbformat": 4,
 "nbformat_minor": 2
}
